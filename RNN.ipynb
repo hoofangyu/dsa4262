{
 "cells": [
  {
   "cell_type": "code",
   "execution_count": 39,
   "id": "45923d61-c702-467d-b100-0a2d8d3a7976",
   "metadata": {},
   "outputs": [],
   "source": [
    "import torch\n",
    "import torch.nn as nn\n",
    "import numpy as np\n",
    "import pytorch_lightning as pl\n",
    "import pandas as pd\n",
    "from sklearn.metrics import roc_auc_score, auc, precision_recall_curve, confusion_matrix, accuracy_score\n",
    "from torch.utils.data import DataLoader, TensorDataset\n",
    "from sklearn.metrics import precision_recall_curve, auc\n",
    "from pytorch_lightning.callbacks import ModelCheckpoint\n",
    "from sklearn.model_selection import train_test_split\n",
    "from sklearn.preprocessing import StandardScaler, MinMaxScaler"
   ]
  },
  {
   "cell_type": "code",
   "execution_count": 40,
   "id": "128cf65e-626a-4654-9da5-e20bf6c2dc79",
   "metadata": {},
   "outputs": [],
   "source": [
    "train = pd.read_parquet(\"data/train_all_features.parquet\").drop(columns = [\"transcript_id\", \"transcript_position\", \"seq\", \"gene_id\"])\n",
    "test = pd.read_parquet(\"data/test_all_features.parquet\").drop(columns = [\"transcript_id\", \"transcript_position\", \"seq\", \"gene_id\"])"
   ]
  },
  {
   "cell_type": "code",
   "execution_count": 41,
   "id": "fdd2d826-c776-46e7-9e87-566679174400",
   "metadata": {},
   "outputs": [],
   "source": [
    "scaler = StandardScaler()\n",
    "# scaler = MinMaxScaler()\n",
    "\n",
    "x_train = train.drop(columns = \"label\")\n",
    "x_test = test.drop(columns = \"label\")\n",
    "\n",
    "train_scaled_arr = scaler.fit_transform(x_train)\n",
    "test_scaled_arr = scaler.transform(x_test)\n",
    "train_scaled = pd.DataFrame(train_scaled_arr, columns=x_train.columns)\n",
    "test_scaled = pd.DataFrame(test_scaled_arr, columns=x_test.columns)\n",
    "\n",
    "train_scaled[\"label\"] = train[\"label\"].values\n",
    "test_scaled[\"label\"] = test[\"label\"].values"
   ]
  },
  {
   "cell_type": "code",
   "execution_count": null,
   "id": "73c4840b-647a-4adc-a9e2-ab221a0e5e9d",
   "metadata": {},
   "outputs": [],
   "source": [
    "class BidirectionalRNN(pl.LightningModule):\n",
    "    def __init__(self, input_size, hidden_size, output_size, learning_rate=1e-3):\n",
    "        super(BidirectionalRNN, self).__init__()\n",
    "        self.save_hyperparameters()\n",
    "        self.hidden_size = hidden_size\n",
    "        self.rnn = nn.RNN(input_size, hidden_size, batch_first=True, bidirectional=True)\n",
    "        self.fc = nn.Linear(hidden_size * 2, output_size)\n",
    "        self.learning_rate = learning_rate\n",
    "        self.criterion = nn.BCEWithLogitsLoss()\n",
    "        self.val_outputs = []\n",
    "        \n",
    "    def forward(self, x):\n",
    "        # x: (batch_size, seq_len, input_size)\n",
    "        rnn_out, _ = self.rnn(x)  # rnn_out: (batch_size, seq_len, hidden_size * 2)\n",
    "        last_hidden = rnn_out[:, -1, :]  # (batch_size, hidden_size * 2)\n",
    "        out = self.fc(last_hidden)  # (batch_size, output_size)\n",
    "        return out\n",
    "    \n",
    "    def training_step(self, batch, batch_idx):\n",
    "        x, y = batch\n",
    "        logits = self(x).squeeze(1)\n",
    "        loss = self.criterion(logits, y)\n",
    "        self.log('train_loss', loss)\n",
    "        return loss\n",
    "\n",
    "    def validation_step(self, batch, batch_idx):\n",
    "        x, y = batch\n",
    "        logits = self(x).squeeze(1)\n",
    "        loss = self.criterion(logits, y)\n",
    "        preds = torch.sigmoid(logits)\n",
    "        self.log('val_loss', loss, prog_bar=True)\n",
    "\n",
    "        # Save outputs to instance variable for use in on_validation_epoch_end\n",
    "        self.val_outputs.append({'preds': preds, 'targets': y})\n",
    "    \n",
    "    def on_validation_epoch_end(self):\n",
    "        # Gather predictions and targets across all validation batches\n",
    "        all_preds = torch.cat([x['preds'] for x in self.val_outputs], dim=0).cpu().numpy()\n",
    "        all_targets = torch.cat([x['targets'] for x in self.val_outputs], dim=0).cpu().numpy()\n",
    "        \n",
    "        # Calculate Precision-Recall AUC\n",
    "        precision, recall, _ = precision_recall_curve(all_targets, all_preds)\n",
    "        pr_auc = auc(recall, precision)\n",
    "\n",
    "        # Calculate ROC AUC\n",
    "        roc_auc = roc_auc_score(all_targets, all_preds)\n",
    "        \n",
    "        # Combine PR AUC and ROC AUC\n",
    "        combined_metric = (pr_auc + roc_auc)/2\n",
    "        \n",
    "        # Log the combined metric\n",
    "        self.log('combined_metric', combined_metric, prog_bar=True)\n",
    "\n",
    "        # Log PR AUC and ROC AUC separately\n",
    "        self.log('val_pr_auc', pr_auc, prog_bar=True)\n",
    "        self.log('val_roc_auc', roc_auc, prog_bar=True)\n",
    "\n",
    "        # Clear the outputs for the next epoch\n",
    "        self.val_outputs.clear()\n",
    "\n",
    "    def configure_optimizers(self):\n",
    "        optimizer = torch.optim.Adam(self.parameters(), lr=self.learning_rate)\n",
    "        return optimizer\n",
    "\n",
    "# Load dataset\n",
    "def load_dataset(df):\n",
    "    n_steps = 3\n",
    "\n",
    "    sequences = []\n",
    "    for i in range(1, n_steps + 1):\n",
    "        step_cols = [col for col in df.columns if col.endswith(f'_{i}')]\n",
    "        step_data = df[step_cols].values\n",
    "        sequences.append(step_data)\n",
    "    \n",
    "    sequences = np.stack(sequences, axis=1)  # (num_samples, n_steps, 3)\n",
    "    \n",
    "    labels = df['label'].values\n",
    "    return sequences, labels\n",
    "\n",
    "# Create datasets\n",
    "def create_dataloaders(train_data, train_labels, val_data, val_labels, batch_size=32):\n",
    "    train_dataset = TensorDataset(torch.tensor(train_data, dtype=torch.float32), torch.tensor(train_labels, dtype=torch.float32))\n",
    "    val_dataset = TensorDataset(torch.tensor(val_data, dtype=torch.float32), torch.tensor(val_labels, dtype=torch.float32))\n",
    "    train_loader = DataLoader(train_dataset, batch_size=batch_size, shuffle=True)\n",
    "    val_loader = DataLoader(val_dataset, batch_size=batch_size, shuffle=False)\n",
    "    return train_loader, val_loader\n",
    "\n",
    "# Model training\n",
    "def train_model(train_data, train_labels, val_data, val_labels, input_size, hidden_size, output_size):\n",
    "    train_loader, val_loader = create_dataloaders(train_data, train_labels, val_data, val_labels)\n",
    "\n",
    "    model = BidirectionalRNN(input_size=input_size, hidden_size=hidden_size, output_size=output_size)\n",
    "    \n",
    "    checkpoint_callback = ModelCheckpoint(\n",
    "        monitor='combined_metric',\n",
    "        mode='max',\n",
    "        save_top_k=1,\n",
    "        filename='best-checkpoint',\n",
    "        verbose=True\n",
    "    )\n",
    "\n",
    "    trainer = pl.Trainer(max_epochs=15, callbacks=[checkpoint_callback], log_every_n_steps=10)\n",
    "    trainer.fit(model, train_loader, val_loader)\n",
    "\n",
    "    best_model_path = checkpoint_callback.best_model_path\n",
    "    best_model = BidirectionalRNN.load_from_checkpoint(best_model_path)\n",
    "\n",
    "    return best_model\n",
    "\n",
    "full_train_data, full_train_labels = load_dataset(train_scaled)\n",
    "\n",
    "train_data, val_data, train_labels, val_labels = train_test_split(\n",
    "    full_train_data, full_train_labels, test_size=0.2, random_state=42, stratify=full_train_labels\n",
    ")\n",
    "\n",
    "# Model parameters\n",
    "input_size = train_data.shape[2]  # Based on your dataset\n",
    "hidden_size = 32\n",
    "output_size = 1  # Binary classification\n",
    "\n",
    "model = train_model(train_data, train_labels, val_data, val_labels, input_size, hidden_size, output_size)"
   ]
  },
  {
   "cell_type": "code",
   "execution_count": 54,
   "id": "f2229ab5-7e98-4318-a7ec-b8facec28a99",
   "metadata": {},
   "outputs": [
    {
     "name": "stderr",
     "output_type": "stream",
     "text": [
      "Trainer will use only 1 of 10 GPUs because it is running inside an interactive / notebook environment. You may try to set `Trainer(devices=10)` but please note that multi-GPU inside interactive / notebook environments is considered experimental and unstable. Your mileage may vary.\n",
      "GPU available: True (cuda), used: True\n",
      "TPU available: False, using: 0 TPU cores\n",
      "HPU available: False, using: 0 HPUs\n",
      "LOCAL_RANK: 0 - CUDA_VISIBLE_DEVICES: [0,1,2,3,4,5,6,7,8,9]\n",
      "\n",
      "  | Name                     | Type              | Params | Mode \n",
      "-----------------------------------------------------------------------\n",
      "0 | rnn                      | RNN               | 143 K  | train\n",
      "1 | fc_class                 | Linear            | 257    | train\n",
      "2 | fc_decoder               | Linear            | 11.6 K | train\n",
      "3 | criterion_class          | BCEWithLogitsLoss | 0      | train\n",
      "4 | criterion_reconstruction | MSELoss           | 0      | train\n",
      "-----------------------------------------------------------------------\n",
      "155 K     Trainable params\n",
      "0         Non-trainable params\n",
      "155 K     Total params\n",
      "0.622     Total estimated model params size (MB)\n",
      "5         Modules in train mode\n",
      "0         Modules in eval mode\n"
     ]
    },
    {
     "data": {
      "application/vnd.jupyter.widget-view+json": {
       "model_id": "",
       "version_major": 2,
       "version_minor": 0
      },
      "text/plain": [
       "Sanity Checking: |                                        | 0/? [00:00<?, ?it/s]"
      ]
     },
     "metadata": {},
     "output_type": "display_data"
    },
    {
     "name": "stderr",
     "output_type": "stream",
     "text": [
      "/home/fangyu.hoo/miniconda3/envs/search3/lib/python3.10/site-packages/pytorch_lightning/trainer/connectors/data_connector.py:424: The 'val_dataloader' does not have many workers which may be a bottleneck. Consider increasing the value of the `num_workers` argument` to `num_workers=63` in the `DataLoader` to improve performance.\n",
      "/home/fangyu.hoo/miniconda3/envs/search3/lib/python3.10/site-packages/pytorch_lightning/trainer/connectors/data_connector.py:424: The 'train_dataloader' does not have many workers which may be a bottleneck. Consider increasing the value of the `num_workers` argument` to `num_workers=63` in the `DataLoader` to improve performance.\n"
     ]
    },
    {
     "data": {
      "application/vnd.jupyter.widget-view+json": {
       "model_id": "a57c475f59044021a3cbe92596b12a74",
       "version_major": 2,
       "version_minor": 0
      },
      "text/plain": [
       "Training: |                                               | 0/? [00:00<?, ?it/s]"
      ]
     },
     "metadata": {},
     "output_type": "display_data"
    },
    {
     "data": {
      "application/vnd.jupyter.widget-view+json": {
       "model_id": "",
       "version_major": 2,
       "version_minor": 0
      },
      "text/plain": [
       "Validation: |                                             | 0/? [00:00<?, ?it/s]"
      ]
     },
     "metadata": {},
     "output_type": "display_data"
    },
    {
     "name": "stderr",
     "output_type": "stream",
     "text": [
      "Epoch 0, global step 2724: 'combined_metric' reached 0.64692 (best 0.64692), saving model to '/mnt/ssfs/usr/fangyu.hoo/dsa4262/lightning_logs/version_29/checkpoints/best-checkpoint.ckpt' as top 1\n"
     ]
    },
    {
     "data": {
      "application/vnd.jupyter.widget-view+json": {
       "model_id": "",
       "version_major": 2,
       "version_minor": 0
      },
      "text/plain": [
       "Validation: |                                             | 0/? [00:00<?, ?it/s]"
      ]
     },
     "metadata": {},
     "output_type": "display_data"
    },
    {
     "name": "stderr",
     "output_type": "stream",
     "text": [
      "Epoch 1, global step 5448: 'combined_metric' reached 0.66571 (best 0.66571), saving model to '/mnt/ssfs/usr/fangyu.hoo/dsa4262/lightning_logs/version_29/checkpoints/best-checkpoint.ckpt' as top 1\n"
     ]
    },
    {
     "data": {
      "application/vnd.jupyter.widget-view+json": {
       "model_id": "",
       "version_major": 2,
       "version_minor": 0
      },
      "text/plain": [
       "Validation: |                                             | 0/? [00:00<?, ?it/s]"
      ]
     },
     "metadata": {},
     "output_type": "display_data"
    },
    {
     "name": "stderr",
     "output_type": "stream",
     "text": [
      "Epoch 2, global step 8172: 'combined_metric' reached 0.67123 (best 0.67123), saving model to '/mnt/ssfs/usr/fangyu.hoo/dsa4262/lightning_logs/version_29/checkpoints/best-checkpoint.ckpt' as top 1\n"
     ]
    },
    {
     "data": {
      "application/vnd.jupyter.widget-view+json": {
       "model_id": "",
       "version_major": 2,
       "version_minor": 0
      },
      "text/plain": [
       "Validation: |                                             | 0/? [00:00<?, ?it/s]"
      ]
     },
     "metadata": {},
     "output_type": "display_data"
    },
    {
     "name": "stderr",
     "output_type": "stream",
     "text": [
      "Epoch 3, global step 10896: 'combined_metric' reached 0.67889 (best 0.67889), saving model to '/mnt/ssfs/usr/fangyu.hoo/dsa4262/lightning_logs/version_29/checkpoints/best-checkpoint.ckpt' as top 1\n"
     ]
    },
    {
     "data": {
      "application/vnd.jupyter.widget-view+json": {
       "model_id": "",
       "version_major": 2,
       "version_minor": 0
      },
      "text/plain": [
       "Validation: |                                             | 0/? [00:00<?, ?it/s]"
      ]
     },
     "metadata": {},
     "output_type": "display_data"
    },
    {
     "name": "stderr",
     "output_type": "stream",
     "text": [
      "Epoch 4, global step 13620: 'combined_metric' reached 0.68197 (best 0.68197), saving model to '/mnt/ssfs/usr/fangyu.hoo/dsa4262/lightning_logs/version_29/checkpoints/best-checkpoint.ckpt' as top 1\n"
     ]
    },
    {
     "data": {
      "application/vnd.jupyter.widget-view+json": {
       "model_id": "",
       "version_major": 2,
       "version_minor": 0
      },
      "text/plain": [
       "Validation: |                                             | 0/? [00:00<?, ?it/s]"
      ]
     },
     "metadata": {},
     "output_type": "display_data"
    },
    {
     "name": "stderr",
     "output_type": "stream",
     "text": [
      "Epoch 5, global step 16344: 'combined_metric' was not in top 1\n"
     ]
    },
    {
     "data": {
      "application/vnd.jupyter.widget-view+json": {
       "model_id": "",
       "version_major": 2,
       "version_minor": 0
      },
      "text/plain": [
       "Validation: |                                             | 0/? [00:00<?, ?it/s]"
      ]
     },
     "metadata": {},
     "output_type": "display_data"
    },
    {
     "name": "stderr",
     "output_type": "stream",
     "text": [
      "Epoch 6, global step 19068: 'combined_metric' was not in top 1\n"
     ]
    },
    {
     "data": {
      "application/vnd.jupyter.widget-view+json": {
       "model_id": "",
       "version_major": 2,
       "version_minor": 0
      },
      "text/plain": [
       "Validation: |                                             | 0/? [00:00<?, ?it/s]"
      ]
     },
     "metadata": {},
     "output_type": "display_data"
    },
    {
     "name": "stderr",
     "output_type": "stream",
     "text": [
      "Epoch 7, global step 21792: 'combined_metric' was not in top 1\n"
     ]
    },
    {
     "data": {
      "application/vnd.jupyter.widget-view+json": {
       "model_id": "",
       "version_major": 2,
       "version_minor": 0
      },
      "text/plain": [
       "Validation: |                                             | 0/? [00:00<?, ?it/s]"
      ]
     },
     "metadata": {},
     "output_type": "display_data"
    },
    {
     "name": "stderr",
     "output_type": "stream",
     "text": [
      "Epoch 8, global step 24516: 'combined_metric' reached 0.68904 (best 0.68904), saving model to '/mnt/ssfs/usr/fangyu.hoo/dsa4262/lightning_logs/version_29/checkpoints/best-checkpoint.ckpt' as top 1\n"
     ]
    },
    {
     "data": {
      "application/vnd.jupyter.widget-view+json": {
       "model_id": "",
       "version_major": 2,
       "version_minor": 0
      },
      "text/plain": [
       "Validation: |                                             | 0/? [00:00<?, ?it/s]"
      ]
     },
     "metadata": {},
     "output_type": "display_data"
    },
    {
     "name": "stderr",
     "output_type": "stream",
     "text": [
      "Epoch 9, global step 27240: 'combined_metric' reached 0.68975 (best 0.68975), saving model to '/mnt/ssfs/usr/fangyu.hoo/dsa4262/lightning_logs/version_29/checkpoints/best-checkpoint.ckpt' as top 1\n"
     ]
    },
    {
     "data": {
      "application/vnd.jupyter.widget-view+json": {
       "model_id": "",
       "version_major": 2,
       "version_minor": 0
      },
      "text/plain": [
       "Validation: |                                             | 0/? [00:00<?, ?it/s]"
      ]
     },
     "metadata": {},
     "output_type": "display_data"
    },
    {
     "name": "stderr",
     "output_type": "stream",
     "text": [
      "Epoch 10, global step 29964: 'combined_metric' reached 0.69666 (best 0.69666), saving model to '/mnt/ssfs/usr/fangyu.hoo/dsa4262/lightning_logs/version_29/checkpoints/best-checkpoint.ckpt' as top 1\n"
     ]
    },
    {
     "data": {
      "application/vnd.jupyter.widget-view+json": {
       "model_id": "",
       "version_major": 2,
       "version_minor": 0
      },
      "text/plain": [
       "Validation: |                                             | 0/? [00:00<?, ?it/s]"
      ]
     },
     "metadata": {},
     "output_type": "display_data"
    },
    {
     "name": "stderr",
     "output_type": "stream",
     "text": [
      "Epoch 11, global step 32688: 'combined_metric' was not in top 1\n"
     ]
    },
    {
     "data": {
      "application/vnd.jupyter.widget-view+json": {
       "model_id": "",
       "version_major": 2,
       "version_minor": 0
      },
      "text/plain": [
       "Validation: |                                             | 0/? [00:00<?, ?it/s]"
      ]
     },
     "metadata": {},
     "output_type": "display_data"
    },
    {
     "name": "stderr",
     "output_type": "stream",
     "text": [
      "Epoch 12, global step 35412: 'combined_metric' was not in top 1\n"
     ]
    },
    {
     "data": {
      "application/vnd.jupyter.widget-view+json": {
       "model_id": "",
       "version_major": 2,
       "version_minor": 0
      },
      "text/plain": [
       "Validation: |                                             | 0/? [00:00<?, ?it/s]"
      ]
     },
     "metadata": {},
     "output_type": "display_data"
    },
    {
     "name": "stderr",
     "output_type": "stream",
     "text": [
      "Epoch 13, global step 38136: 'combined_metric' was not in top 1\n"
     ]
    },
    {
     "data": {
      "application/vnd.jupyter.widget-view+json": {
       "model_id": "",
       "version_major": 2,
       "version_minor": 0
      },
      "text/plain": [
       "Validation: |                                             | 0/? [00:00<?, ?it/s]"
      ]
     },
     "metadata": {},
     "output_type": "display_data"
    },
    {
     "name": "stderr",
     "output_type": "stream",
     "text": [
      "Epoch 14, global step 40860: 'combined_metric' was not in top 1\n"
     ]
    },
    {
     "data": {
      "application/vnd.jupyter.widget-view+json": {
       "model_id": "",
       "version_major": 2,
       "version_minor": 0
      },
      "text/plain": [
       "Validation: |                                             | 0/? [00:00<?, ?it/s]"
      ]
     },
     "metadata": {},
     "output_type": "display_data"
    },
    {
     "name": "stderr",
     "output_type": "stream",
     "text": [
      "Epoch 15, global step 43584: 'combined_metric' was not in top 1\n"
     ]
    },
    {
     "data": {
      "application/vnd.jupyter.widget-view+json": {
       "model_id": "",
       "version_major": 2,
       "version_minor": 0
      },
      "text/plain": [
       "Validation: |                                             | 0/? [00:00<?, ?it/s]"
      ]
     },
     "metadata": {},
     "output_type": "display_data"
    },
    {
     "name": "stderr",
     "output_type": "stream",
     "text": [
      "Epoch 16, global step 46308: 'combined_metric' was not in top 1\n"
     ]
    },
    {
     "data": {
      "application/vnd.jupyter.widget-view+json": {
       "model_id": "",
       "version_major": 2,
       "version_minor": 0
      },
      "text/plain": [
       "Validation: |                                             | 0/? [00:00<?, ?it/s]"
      ]
     },
     "metadata": {},
     "output_type": "display_data"
    },
    {
     "name": "stderr",
     "output_type": "stream",
     "text": [
      "Epoch 17, global step 49032: 'combined_metric' reached 0.70300 (best 0.70300), saving model to '/mnt/ssfs/usr/fangyu.hoo/dsa4262/lightning_logs/version_29/checkpoints/best-checkpoint.ckpt' as top 1\n"
     ]
    },
    {
     "data": {
      "application/vnd.jupyter.widget-view+json": {
       "model_id": "",
       "version_major": 2,
       "version_minor": 0
      },
      "text/plain": [
       "Validation: |                                             | 0/? [00:00<?, ?it/s]"
      ]
     },
     "metadata": {},
     "output_type": "display_data"
    },
    {
     "name": "stderr",
     "output_type": "stream",
     "text": [
      "Epoch 18, global step 51756: 'combined_metric' reached 0.70487 (best 0.70487), saving model to '/mnt/ssfs/usr/fangyu.hoo/dsa4262/lightning_logs/version_29/checkpoints/best-checkpoint.ckpt' as top 1\n"
     ]
    },
    {
     "data": {
      "application/vnd.jupyter.widget-view+json": {
       "model_id": "",
       "version_major": 2,
       "version_minor": 0
      },
      "text/plain": [
       "Validation: |                                             | 0/? [00:00<?, ?it/s]"
      ]
     },
     "metadata": {},
     "output_type": "display_data"
    },
    {
     "name": "stderr",
     "output_type": "stream",
     "text": [
      "Epoch 19, global step 54480: 'combined_metric' was not in top 1\n"
     ]
    },
    {
     "data": {
      "application/vnd.jupyter.widget-view+json": {
       "model_id": "",
       "version_major": 2,
       "version_minor": 0
      },
      "text/plain": [
       "Validation: |                                             | 0/? [00:00<?, ?it/s]"
      ]
     },
     "metadata": {},
     "output_type": "display_data"
    },
    {
     "name": "stderr",
     "output_type": "stream",
     "text": [
      "Epoch 20, global step 57204: 'combined_metric' was not in top 1\n"
     ]
    },
    {
     "data": {
      "application/vnd.jupyter.widget-view+json": {
       "model_id": "",
       "version_major": 2,
       "version_minor": 0
      },
      "text/plain": [
       "Validation: |                                             | 0/? [00:00<?, ?it/s]"
      ]
     },
     "metadata": {},
     "output_type": "display_data"
    },
    {
     "name": "stderr",
     "output_type": "stream",
     "text": [
      "Epoch 21, global step 59928: 'combined_metric' was not in top 1\n"
     ]
    },
    {
     "data": {
      "application/vnd.jupyter.widget-view+json": {
       "model_id": "",
       "version_major": 2,
       "version_minor": 0
      },
      "text/plain": [
       "Validation: |                                             | 0/? [00:00<?, ?it/s]"
      ]
     },
     "metadata": {},
     "output_type": "display_data"
    },
    {
     "name": "stderr",
     "output_type": "stream",
     "text": [
      "Epoch 22, global step 62652: 'combined_metric' was not in top 1\n"
     ]
    },
    {
     "data": {
      "application/vnd.jupyter.widget-view+json": {
       "model_id": "",
       "version_major": 2,
       "version_minor": 0
      },
      "text/plain": [
       "Validation: |                                             | 0/? [00:00<?, ?it/s]"
      ]
     },
     "metadata": {},
     "output_type": "display_data"
    },
    {
     "name": "stderr",
     "output_type": "stream",
     "text": [
      "Epoch 23, global step 65376: 'combined_metric' was not in top 1\n"
     ]
    },
    {
     "data": {
      "application/vnd.jupyter.widget-view+json": {
       "model_id": "",
       "version_major": 2,
       "version_minor": 0
      },
      "text/plain": [
       "Validation: |                                             | 0/? [00:00<?, ?it/s]"
      ]
     },
     "metadata": {},
     "output_type": "display_data"
    },
    {
     "name": "stderr",
     "output_type": "stream",
     "text": [
      "Epoch 24, global step 68100: 'combined_metric' was not in top 1\n"
     ]
    },
    {
     "data": {
      "application/vnd.jupyter.widget-view+json": {
       "model_id": "",
       "version_major": 2,
       "version_minor": 0
      },
      "text/plain": [
       "Validation: |                                             | 0/? [00:00<?, ?it/s]"
      ]
     },
     "metadata": {},
     "output_type": "display_data"
    },
    {
     "name": "stderr",
     "output_type": "stream",
     "text": [
      "Epoch 25, global step 70824: 'combined_metric' was not in top 1\n"
     ]
    },
    {
     "data": {
      "application/vnd.jupyter.widget-view+json": {
       "model_id": "",
       "version_major": 2,
       "version_minor": 0
      },
      "text/plain": [
       "Validation: |                                             | 0/? [00:00<?, ?it/s]"
      ]
     },
     "metadata": {},
     "output_type": "display_data"
    },
    {
     "name": "stderr",
     "output_type": "stream",
     "text": [
      "Epoch 26, global step 73548: 'combined_metric' was not in top 1\n"
     ]
    },
    {
     "data": {
      "application/vnd.jupyter.widget-view+json": {
       "model_id": "",
       "version_major": 2,
       "version_minor": 0
      },
      "text/plain": [
       "Validation: |                                             | 0/? [00:00<?, ?it/s]"
      ]
     },
     "metadata": {},
     "output_type": "display_data"
    },
    {
     "name": "stderr",
     "output_type": "stream",
     "text": [
      "Epoch 27, global step 76272: 'combined_metric' was not in top 1\n"
     ]
    },
    {
     "data": {
      "application/vnd.jupyter.widget-view+json": {
       "model_id": "",
       "version_major": 2,
       "version_minor": 0
      },
      "text/plain": [
       "Validation: |                                             | 0/? [00:00<?, ?it/s]"
      ]
     },
     "metadata": {},
     "output_type": "display_data"
    },
    {
     "name": "stderr",
     "output_type": "stream",
     "text": [
      "Epoch 28, global step 78996: 'combined_metric' was not in top 1\n"
     ]
    },
    {
     "data": {
      "application/vnd.jupyter.widget-view+json": {
       "model_id": "",
       "version_major": 2,
       "version_minor": 0
      },
      "text/plain": [
       "Validation: |                                             | 0/? [00:00<?, ?it/s]"
      ]
     },
     "metadata": {},
     "output_type": "display_data"
    },
    {
     "name": "stderr",
     "output_type": "stream",
     "text": [
      "Epoch 29, global step 81720: 'combined_metric' was not in top 1\n",
      "`Trainer.fit` stopped: `max_epochs=30` reached.\n"
     ]
    }
   ],
   "source": [
    "import pytorch_lightning as pl\n",
    "import torch\n",
    "import torch.nn as nn\n",
    "import torch.optim as optim\n",
    "from sklearn.metrics import precision_recall_curve, auc, roc_auc_score\n",
    "from torch.utils.data import DataLoader, TensorDataset\n",
    "from pytorch_lightning.callbacks import ModelCheckpoint\n",
    "\n",
    "class MultitaskAutoencoderRNN(pl.LightningModule):\n",
    "    def __init__(self, input_size, hidden_size, output_size, learning_rate=1e-3, alpha=0.5):\n",
    "        super(MultitaskAutoencoderRNN, self).__init__()\n",
    "        self.save_hyperparameters()\n",
    "        self.hidden_size = hidden_size\n",
    "        self.rnn = nn.RNN(input_size, hidden_size, num_layers = 2, batch_first=True, bidirectional=True)\n",
    "        \n",
    "        # Classification head\n",
    "        self.fc_class = nn.Linear(hidden_size * 2, output_size)\n",
    "        \n",
    "        # Decoder for the autoencoding task\n",
    "        self.fc_decoder = nn.Linear(hidden_size * 2, input_size)\n",
    "        self.learning_rate = learning_rate\n",
    "        \n",
    "        # Loss functions\n",
    "        self.criterion_class = nn.BCEWithLogitsLoss()\n",
    "        self.criterion_reconstruction = nn.MSELoss()\n",
    "        \n",
    "        # Weights for multitask loss\n",
    "        self.alpha = alpha\n",
    "        self.val_outputs = []\n",
    "\n",
    "    def forward(self, x):\n",
    "        # x: (batch_size, seq_len, input_size)\n",
    "        rnn_out, _ = self.rnn(x)  # rnn_out: (batch_size, seq_len, hidden_size * 2)\n",
    "        last_hidden = rnn_out[:, -1, :]  # (batch_size, hidden_size * 2)\n",
    "        \n",
    "        # Classification output\n",
    "        classification_output = self.fc_class(last_hidden)  # (batch_size, output_size)\n",
    "        \n",
    "        # Reconstruction output (using all hidden states, not just the last)\n",
    "        reconstruction_output = self.fc_decoder(rnn_out)  # (batch_size, seq_len, input_size)\n",
    "        \n",
    "        return classification_output, reconstruction_output\n",
    "\n",
    "    def training_step(self, batch, batch_idx):\n",
    "        x, y = batch\n",
    "        \n",
    "        # Forward pass\n",
    "        classification_logits, reconstruction_output = self(x)\n",
    "        classification_logits = classification_logits.squeeze(1)\n",
    "        \n",
    "        # Compute the classification loss\n",
    "        loss_class = self.criterion_class(classification_logits, y)\n",
    "        \n",
    "        # Compute the reconstruction loss\n",
    "        loss_reconstruction = self.criterion_reconstruction(reconstruction_output, x)\n",
    "        \n",
    "        # Combine the losses\n",
    "        loss = self.alpha * loss_class + (1 - self.alpha) * loss_reconstruction\n",
    "        \n",
    "        # Log losses\n",
    "        self.log('train_loss', loss)\n",
    "        self.log('train_class_loss', loss_class)\n",
    "        self.log('train_reconstruction_loss', loss_reconstruction)\n",
    "        \n",
    "        return loss\n",
    "\n",
    "    def validation_step(self, batch, batch_idx):\n",
    "        x, y = batch\n",
    "        \n",
    "        # Forward pass\n",
    "        classification_logits, reconstruction_output = self(x)\n",
    "        classification_logits = classification_logits.squeeze(1)\n",
    "        \n",
    "        # Compute the classification loss\n",
    "        loss_class = self.criterion_class(classification_logits, y)\n",
    "        \n",
    "        # Compute the reconstruction loss\n",
    "        loss_reconstruction = self.criterion_reconstruction(reconstruction_output, x)\n",
    "        \n",
    "        # Combine the losses\n",
    "        loss = self.alpha * loss_class + (1 - self.alpha) * loss_reconstruction\n",
    "        \n",
    "        # Calculate metrics\n",
    "        preds = torch.sigmoid(classification_logits)\n",
    "        self.log('val_loss', loss, prog_bar=True)\n",
    "        \n",
    "        # Save outputs for PR AUC and ROC AUC calculation\n",
    "        self.val_outputs.append({'preds': preds, 'targets': y})\n",
    "\n",
    "    def on_validation_epoch_end(self):\n",
    "        # Gather predictions and targets across all validation batches\n",
    "        all_preds = torch.cat([x['preds'] for x in self.val_outputs], dim=0).cpu().numpy()\n",
    "        all_targets = torch.cat([x['targets'] for x in self.val_outputs], dim=0).cpu().numpy()\n",
    "        \n",
    "        # Calculate Precision-Recall AUC\n",
    "        precision, recall, _ = precision_recall_curve(all_targets, all_preds)\n",
    "        pr_auc = auc(recall, precision)\n",
    "\n",
    "        # Calculate ROC AUC\n",
    "        roc_auc = roc_auc_score(all_targets, all_preds)\n",
    "        \n",
    "        # Combine PR AUC and ROC AUC\n",
    "        combined_metric = (pr_auc + roc_auc) / 2\n",
    "        \n",
    "        # Log the combined metric\n",
    "        self.log('combined_metric', combined_metric, prog_bar=True)\n",
    "\n",
    "        # Log PR AUC and ROC AUC separately\n",
    "        self.log('val_pr_auc', pr_auc, prog_bar=True)\n",
    "        self.log('val_roc_auc', roc_auc, prog_bar=True)\n",
    "\n",
    "        # Clear the outputs for the next epoch\n",
    "        self.val_outputs.clear()\n",
    "\n",
    "    def configure_optimizers(self):\n",
    "        optimizer = optim.Adam(self.parameters(), lr=self.learning_rate)\n",
    "        return optimizer\n",
    "\n",
    "def load_dataset(df):\n",
    "    n_steps = 3\n",
    "\n",
    "    sequences = []\n",
    "    for i in range(1, n_steps + 1):\n",
    "        step_cols = [col for col in df.columns if col.endswith(f'_{i}')]\n",
    "        step_data = df[step_cols].values\n",
    "        sequences.append(step_data)\n",
    "    \n",
    "    sequences = np.stack(sequences, axis=1)  # (num_samples, n_steps, 3)\n",
    "    \n",
    "    labels = df['label'].values\n",
    "    return sequences, labels\n",
    "\n",
    "# Create datasets\n",
    "def create_dataloaders(train_data, train_labels, val_data, val_labels, batch_size=32):\n",
    "    train_dataset = TensorDataset(torch.tensor(train_data, dtype=torch.float32), torch.tensor(train_labels, dtype=torch.float32))\n",
    "    val_dataset = TensorDataset(torch.tensor(val_data, dtype=torch.float32), torch.tensor(val_labels, dtype=torch.float32))\n",
    "    train_loader = DataLoader(train_dataset, batch_size=batch_size, shuffle=True)\n",
    "    val_loader = DataLoader(val_dataset, batch_size=batch_size, shuffle=False)\n",
    "    return train_loader, val_loader\n",
    "\n",
    "# Model training\n",
    "def train_model(train_data, train_labels, val_data, val_labels, input_size, hidden_size, output_size):\n",
    "    train_loader, val_loader = create_dataloaders(train_data, train_labels, val_data, val_labels)\n",
    "\n",
    "    model = MultitaskAutoencoderRNN(input_size=input_size, hidden_size=hidden_size, output_size=output_size)\n",
    "    \n",
    "    checkpoint_callback = ModelCheckpoint(\n",
    "        monitor='combined_metric',\n",
    "        mode='max',\n",
    "        save_top_k=1,\n",
    "        filename='best-checkpoint',\n",
    "        verbose=True\n",
    "    )\n",
    "\n",
    "    trainer = pl.Trainer(max_epochs=30, callbacks=[checkpoint_callback], log_every_n_steps=10)\n",
    "    trainer.fit(model, train_loader, val_loader)\n",
    "\n",
    "    best_model_path = checkpoint_callback.best_model_path\n",
    "    best_model = MultitaskAutoencoderRNN.load_from_checkpoint(best_model_path)\n",
    "\n",
    "    return best_model\n",
    "\n",
    "full_train_data, full_train_labels = load_dataset(train_scaled)\n",
    "\n",
    "train_data, val_data, train_labels, val_labels = train_test_split(\n",
    "    full_train_data, full_train_labels, test_size=0.10, random_state=42, stratify=full_train_labels\n",
    ")\n",
    "\n",
    "# Model parameters\n",
    "input_size = train_data.shape[2]  # Based on your dataset\n",
    "hidden_size = 128\n",
    "output_size = 1  # Binary classification\n",
    "\n",
    "model = train_model(train_data, train_labels, val_data, val_labels, input_size, hidden_size, output_size)"
   ]
  },
  {
   "cell_type": "code",
   "execution_count": 55,
   "id": "85eb7c70-5e7a-483a-93ae-a7be5016a864",
   "metadata": {},
   "outputs": [],
   "source": [
    "def create_test_dataloader(test_data, batch_size=32):\n",
    "    device = torch.device('cuda:0' if torch.cuda.is_available() else 'cpu')\n",
    "    test_dataset = TensorDataset(torch.tensor(test_data, dtype=torch.float32).to(device))\n",
    "    test_loader = DataLoader(test_dataset, batch_size=batch_size, shuffle=False)\n",
    "    return test_loader\n",
    "\n",
    "test_data, test_labels = load_dataset(test_scaled)\n",
    "test_loader = create_test_dataloader(test_data)"
   ]
  },
  {
   "cell_type": "code",
   "execution_count": 56,
   "id": "effa356f-98ec-451a-95bf-63e9dbad2f6f",
   "metadata": {},
   "outputs": [],
   "source": [
    "def predict_test_set(model, test_loader):\n",
    "    model.eval()  # Set the model to evaluation mode\n",
    "    all_logits = []\n",
    "    with torch.no_grad():  # Disable gradient calculation for inference\n",
    "        for batch in test_loader:\n",
    "            x_test = batch[0]  # Extract the test features\n",
    "            logits, _ = model(x_test)  # Get the predictions/logits\n",
    "            proba = torch.sigmoid(logits)\n",
    "            all_logits.append(proba)\n",
    "    \n",
    "    # Concatenate all logits into a single tensor\n",
    "    all_logits = torch.cat(all_logits, dim=0).cpu().numpy()\n",
    "    return all_logits\n",
    "\n",
    "test_logits = predict_test_set(model, test_loader)"
   ]
  },
  {
   "cell_type": "code",
   "execution_count": 57,
   "id": "fae57f2b-2d66-4000-b2c3-6d1c20f8bbc5",
   "metadata": {},
   "outputs": [
    {
     "name": "stdout",
     "output_type": "stream",
     "text": [
      "roc auc: 0.9153\n",
      "pr auc: 0.4647\n"
     ]
    }
   ],
   "source": [
    "print(f'roc auc: {round(roc_auc_score(test_labels, test_logits),4)}')\n",
    "precision, recall, thresholds = precision_recall_curve(test_labels, test_logits)\n",
    "print(f'pr auc: {round(auc(recall, precision),4)}')"
   ]
  }
 ],
 "metadata": {
  "kernelspec": {
   "display_name": "Python 3 (ipykernel)",
   "language": "python",
   "name": "python3"
  },
  "language_info": {
   "codemirror_mode": {
    "name": "ipython",
    "version": 3
   },
   "file_extension": ".py",
   "mimetype": "text/x-python",
   "name": "python",
   "nbconvert_exporter": "python",
   "pygments_lexer": "ipython3",
   "version": "3.10.14"
  }
 },
 "nbformat": 4,
 "nbformat_minor": 5
}
